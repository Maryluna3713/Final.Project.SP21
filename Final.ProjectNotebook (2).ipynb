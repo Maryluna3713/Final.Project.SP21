{
 "cells": [
  {
   "cell_type": "markdown",
   "metadata": {},
   "source": [
    "# Project Description"
   ]
  },
  {
   "cell_type": "markdown",
   "metadata": {},
   "source": [
    "MEET BILLY!!\n",
    "\n",
    "So often during finals week students become overstressed and unmotivated. This can lead to students procrastinating. This type of behavior can be relaxing or cause more stress depending on whether the procrastination behavior is beneficial or hurtful ie binge watching an entire season of The Office or just watching one episode. Procrastination is so highly expected during finals week that even Sunny the CAPE mascot spams students with emails stating \"What better way to procrastinate than with CAPES!\".  \n",
    "\n",
    "This creates the perfect opportunity to introduce Billy, the friendly procrastination chatbot to help you destress. He recommends relaxing activities based on how often a user engages in de-stressing activities. The less time a user focuses on themselves, the more intense the effort but the more intense the ultimate relaxation the user experiences. If Billy decides that the user already de-stresses pretty often and he or she doesn’t need too much more procrastination, then he will recommend some light de-stressing activities.  Billy knows that not all de-stressing activities work for everyone. This is why he offers an array of activities of all sorts of styles to find the best fit for the user. Once the user finds an activity he or she likes Billy will congratulate them and send them on their way!  Go ahead and give him a whirl! "
   ]
  },
  {
   "cell_type": "markdown",
   "metadata": {},
   "source": [
    "## Project Code\n",
    "\n",
    "If it makes sense for your project, you can have code and outputs here in the notebook as well."
   ]
  },
  {
   "cell_type": "code",
   "execution_count": 1,
   "metadata": {},
   "outputs": [],
   "source": [
    "from my_module_classes import Billy\n",
    "from test_functions import chat_w_Billy"
   ]
  },
  {
   "cell_type": "markdown",
   "metadata": {},
   "source": []
  },
  {
   "cell_type": "code",
   "execution_count": null,
   "metadata": {},
   "outputs": [],
   "source": []
  },
  {
   "cell_type": "code",
   "execution_count": null,
   "metadata": {},
   "outputs": [],
   "source": []
  },
  {
   "cell_type": "code",
   "execution_count": null,
   "metadata": {},
   "outputs": [],
   "source": [
    "# test it out\n",
    "\n",
    "chat_w_Billy()"
   ]
  },
  {
   "cell_type": "markdown",
   "metadata": {},
   "source": [
    "#### Extra Credit (*optional*)\n",
    "\n",
    "\n",
    "My python background was zilch, zip, nada. Since I was so new to programming, I had a difficut time just even creating the chatbot. I really challeneged myself with debuggig and refractoring because so often I would just get stuck running my code and figuring out why it ws throwing an error or getting rid of the code that I no longer needed after finding the error. \n"
   ]
  },
  {
   "cell_type": "code",
   "execution_count": null,
   "metadata": {},
   "outputs": [],
   "source": []
  }
 ],
 "metadata": {
  "kernelspec": {
   "display_name": "Python 3",
   "language": "python",
   "name": "python3"
  },
  "language_info": {
   "codemirror_mode": {
    "name": "ipython",
    "version": 3
   },
   "file_extension": ".py",
   "mimetype": "text/x-python",
   "name": "python",
   "nbconvert_exporter": "python",
   "pygments_lexer": "ipython3",
   "version": "3.8.6"
  }
 },
 "nbformat": 4,
 "nbformat_minor": 2
}
